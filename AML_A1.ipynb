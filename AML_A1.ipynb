{
  "cells": [
    {
      "cell_type": "markdown",
      "metadata": {
        "id": "view-in-github",
        "colab_type": "text"
      },
      "source": [
        "<a href=\"https://colab.research.google.com/github/JVerbeek/AML/blob/main/AML_A1.ipynb\" target=\"_parent\"><img src=\"https://colab.research.google.com/assets/colab-badge.svg\" alt=\"Open In Colab\"/></a>"
      ]
    },
    {
      "cell_type": "code",
      "execution_count": null,
      "metadata": {
        "id": "1BUPWHVWTtLh"
      },
      "outputs": [],
      "source": [
        "import pandas as pd\n",
        "import random\n",
        "import matplotlib.pyplot as plt\n",
        "import numpy as np\n",
        "from sklearn.model_selection import train_test_split\n",
        "from sklearn.preprocessing import StandardScaler, LabelEncoder\n",
        "from sklearn.decomposition import PCA, KernelPCA, IncrementalPCA\n",
        "from sklearn.naive_bayes import GaussianNB, MultinomialNB\n",
        "from sklearn.pipeline import Pipeline, make_pipeline\n",
        "from sklearn.ensemble import AdaBoostClassifier, RandomForestClassifier, ExtraTreesRegressor\n",
        "from sklearn.tree import DecisionTreeClassifier\n",
        "import sklearn.metrics as metrics\n",
        "from sklearn.experimental import enable_iterative_imputer\n",
        "from sklearn.impute import IterativeImputer, SimpleImputer\n",
        "seed = 3141592\n",
        "random.seed(seed)\n"
      ]
    },
    {
      "cell_type": "code",
      "execution_count": null,
      "metadata": {
        "colab": {
          "base_uri": "https://localhost:8080/"
        },
        "id": "_xiODlMsTv7e",
        "outputId": "d4155f23-0ac1-473f-f354-095edb2cee80"
      },
      "outputs": [
        {
          "output_type": "stream",
          "name": "stdout",
          "text": [
            "Mounted at /content/drive\n"
          ]
        }
      ],
      "source": [
        "from google.colab import drive\n",
        "drive.mount('/content/drive')"
      ]
    },
    {
      "cell_type": "code",
      "execution_count": null,
      "metadata": {
        "colab": {
          "base_uri": "https://localhost:8080/"
        },
        "id": "JbQ4lHSLT4uf",
        "outputId": "dda49fd1-2829-4a87-e548-be6f0d0d1c35"
      },
      "outputs": [
        {
          "output_type": "execute_result",
          "data": {
            "text/plain": [
              "(1593, 2651)"
            ]
          },
          "metadata": {},
          "execution_count": 4
        }
      ],
      "source": [
        "df = pd.read_csv(\"/content/drive/MyDrive/train_data.csv\")\n",
        "df.shape"
      ]
    },
    {
      "cell_type": "markdown",
      "metadata": {
        "id": "wO2XN3dskQqh"
      },
      "source": [
        "### Dealing with NAs\n",
        "There are quite a number of columns that have many NAs. For now we drop all columns for which more than half of the observations contain NAs in that column. This leaves us with 1037 features."
      ]
    },
    {
      "cell_type": "code",
      "execution_count": null,
      "metadata": {
        "id": "j62yRs0YP3xG"
      },
      "outputs": [],
      "source": [
        ""
      ]
    },
    {
      "cell_type": "code",
      "execution_count": null,
      "metadata": {
        "id": "vQg8TGvJ3XqT"
      },
      "outputs": [],
      "source": [
        "y = df[\"target\"]\n",
        "X = df.drop(\"target\", axis=1)"
      ]
    },
    {
      "cell_type": "code",
      "execution_count": null,
      "metadata": {
        "id": "vLpuJ7HS2PZ4"
      },
      "outputs": [],
      "source": [
        "X[X.duplicated()]   # Nice, no duplicates!\n",
        "X.shape\n",
        "X_train_np, X_test_np, y_train, y_test = train_test_split(X, y, stratify=y, random_state=0, test_size=0.1)\n"
      ]
    },
    {
      "cell_type": "code",
      "execution_count": null,
      "metadata": {
        "id": "r0cERW5c6TIH"
      },
      "outputs": [],
      "source": [
        "def prep(X, keys):\n",
        "  if keys is None:\n",
        "    print(\"train mode\")\n",
        "    isnas_500 = X.isna().sum() < int(X.shape[0]/2)  # More than 1/2 of the values are NA then drop\n",
        "    isnas = X.isna().sum() == 0\n",
        "    df_few_na = X.loc[:, isnas_500.values]\n",
        "  else:\n",
        "    print(\"test mode\")\n",
        "    df_few_na = X[keys]\n",
        "  \n",
        "  categorical = []\n",
        "  continuous = []\n",
        "  for key in df_few_na.keys():\n",
        "    if len(np.unique(df[key].values)) < 10: # If fewer than 10 unique values then data is probably categorical\n",
        "      categorical.append(key)\n",
        "    else: \n",
        "      continuous.append(key)\n",
        "  imp = SimpleImputer(strategy='mean')\n",
        "  df_few_na[continuous] = imp.fit_transform(df_few_na[continuous])\n",
        "  for key in categorical:\n",
        "    df_few_na[key] = df_few_na[key].fillna(df_few_na[key].value_counts().idxmax())   # Replace categorical stuff with most occurring label\n",
        "  return df_few_na\n"
      ]
    },
    {
      "cell_type": "code",
      "execution_count": null,
      "metadata": {
        "colab": {
          "base_uri": "https://localhost:8080/"
        },
        "id": "QhHpwqSRonEl",
        "outputId": "e856146e-4c33-477d-e6a9-601fccbdfae6"
      },
      "outputs": [
        {
          "output_type": "stream",
          "name": "stdout",
          "text": [
            "train mode\n"
          ]
        }
      ],
      "source": [
        "X_train = prep(X_train_np, keys=None)\n"
      ]
    },
    {
      "cell_type": "markdown",
      "metadata": {
        "id": "hA-E8FCtNwEx"
      },
      "source": [
        "Check: did imputing NAs work as expected?"
      ]
    },
    {
      "cell_type": "code",
      "execution_count": null,
      "metadata": {
        "id": "oxQzhAWKN4wJ"
      },
      "outputs": [],
      "source": [
        "assert X_train.isna().sum().sum() == 0"
      ]
    },
    {
      "cell_type": "markdown",
      "metadata": {
        "id": "NvRLayo0GfPm"
      },
      "source": [
        "### Some rather uninteresting stuff, such as the model"
      ]
    },
    {
      "cell_type": "code",
      "execution_count": null,
      "metadata": {
        "id": "jrUGuxKEw-UP"
      },
      "outputs": [],
      "source": [
        "from sklearn.multiclass import OneVsRestClassifier"
      ]
    },
    {
      "cell_type": "code",
      "execution_count": null,
      "metadata": {
        "colab": {
          "base_uri": "https://localhost:8080/"
        },
        "id": "oMViSoYNfNX1",
        "outputId": "4fd43f2f-8244-47b3-b4e6-22271a35d744"
      },
      "outputs": [
        {
          "output_type": "stream",
          "name": "stdout",
          "text": [
            "Fitting 10 folds for each of 1 candidates, totalling 10 fits\n",
            "[CV 1/10] END randomforestclassifier__max_depth=1000, randomforestclassifier__max_features=0.5, randomforestclassifier__min_samples_leaf=1, randomforestclassifier__n_estimators=500;, score=0.833 total time= 2.6min\n",
            "[CV 2/10] END randomforestclassifier__max_depth=1000, randomforestclassifier__max_features=0.5, randomforestclassifier__min_samples_leaf=1, randomforestclassifier__n_estimators=500;, score=0.833 total time= 2.4min\n",
            "[CV 3/10] END randomforestclassifier__max_depth=1000, randomforestclassifier__max_features=0.5, randomforestclassifier__min_samples_leaf=1, randomforestclassifier__n_estimators=500;, score=0.817 total time= 2.4min\n"
          ]
        }
      ],
      "source": [
        "from sklearn.model_selection import GridSearchCV\n",
        "pipe = make_pipeline(StandardScaler(), RandomForestClassifier(criterion='entropy', random_state=0, n_jobs=-1))\n",
        "parameters = {'randomforestclassifier__n_estimators': [500], 'randomforestclassifier__max_depth': [1000], \"randomforestclassifier__max_features\":[0.5], \"randomforestclassifier__min_samples_leaf\":[1]}\n",
        "gridsearch = GridSearchCV(pipe, parameters, cv=10, verbose=3)\n",
        "gridsearch.fit(X_train, y_train)"
      ]
    },
    {
      "cell_type": "code",
      "execution_count": null,
      "metadata": {
        "id": "oRNtFs-6jIBK"
      },
      "outputs": [],
      "source": [
        "X_test = prep(X_test_np, keys=X_train.keys())\n",
        "y_pred = gridsearch.predict(X_test)\n",
        "print(gridsearch.best_params_)\n",
        "print(metrics.accuracy_score(y_test, y_pred))\n",
        "print(metrics.confusion_matrix(y_test, y_pred))\n",
        "print(metrics.classification_report(y_test, y_pred))"
      ]
    },
    {
      "cell_type": "code",
      "execution_count": null,
      "metadata": {
        "id": "1m1V6-MQGTJQ"
      },
      "outputs": [],
      "source": [
        ""
      ]
    },
    {
      "cell_type": "code",
      "execution_count": null,
      "metadata": {
        "id": "-WtJepLIjd2l"
      },
      "outputs": [],
      "source": [
        ""
      ]
    }
  ],
  "metadata": {
    "colab": {
      "name": "AML-A1.ipynb",
      "provenance": [],
      "authorship_tag": "ABX9TyOk5majLivJ4RrppXY9Eiaf",
      "include_colab_link": true
    },
    "kernelspec": {
      "display_name": "Python 3",
      "name": "python3"
    },
    "language_info": {
      "name": "python"
    }
  },
  "nbformat": 4,
  "nbformat_minor": 0
}